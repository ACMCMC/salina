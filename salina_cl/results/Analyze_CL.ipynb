{
 "cells": [
  {
   "cell_type": "code",
   "execution_count": 20,
   "id": "f4a109d2",
   "metadata": {},
   "outputs": [],
   "source": [
    "import os\n",
    "import sys\n",
    "from salina_cl.results.analyze import *\n",
    "import salina.logger"
   ]
  },
  {
   "cell_type": "markdown",
   "id": "da17c036",
   "metadata": {},
   "source": [
    "#### Enter the path"
   ]
  },
  {
   "cell_type": "code",
   "execution_count": 23,
   "id": "5a1e908f",
   "metadata": {},
   "outputs": [],
   "source": [
    "PATH = \"/private/home/jbgaya/Work/salina/salina_cl/multirun/halfcheetah_hard/ppo_finetune/2022-02-03_06-47-14/\""
   ]
  },
  {
   "cell_type": "markdown",
   "id": "ec926b46",
   "metadata": {},
   "source": [
    "# Display best experiments"
   ]
  },
  {
   "cell_type": "code",
   "execution_count": 24,
   "id": "a98a29e9",
   "metadata": {
    "scrolled": false
   },
   "outputs": [
    {
     "name": "stdout",
     "output_type": "stream",
     "text": [
      "Found 72 logs\n"
     ]
    },
    {
     "data": {
      "text/html": [
       "<h2>____________________________________________________________________________________________________</h2>"
      ],
      "text/plain": [
       "<IPython.core.display.HTML object>"
      ]
     },
     "metadata": {},
     "output_type": "display_data"
    },
    {
     "name": "stdout",
     "output_type": "stream",
     "text": [
      "Analyzing  2  logs\n"
     ]
    },
    {
     "data": {
      "text/html": [
       "<h2>#1</h2>"
      ],
      "text/plain": [
       "<IPython.core.display.HTML object>"
      ]
     },
     "metadata": {},
     "output_type": "display_data"
    },
    {
     "data": {
      "text/html": [
       "<h3>Key metrics</h3><ul><li><b>Final average perf</b> =1773.0</li><li><b>Forward transfer</b> =579.0</li><li><b>Forgetting</b> =217.8</li></ul>"
      ],
      "text/plain": [
       "<IPython.core.display.HTML object>"
      ]
     },
     "metadata": {},
     "output_type": "display_data"
    },
    {
     "data": {
      "text/html": [
       "<h3>Reward</h3><table><tr><td>Task \\ Stage </td><td><b>0</b></td><td><b>1</b></td><td><b>2</b></td><td><b>3</b></td><td><b>4</b></td></tr><tr><td><b>0</b></td><td>631.0 <small><i>±329.0</i></small></td><td>1492.0 <small><i>±69.0</i></small></td><td>1430.0 <small><i>±711.0</i></small></td><td>3037.0 <small><i>±144.0</i></small></td><td>2499.0 <small><i>±134.0</i></small></td></tr><tr><td><b>1</b></td><td>1537.0 <small><i>±956.0</i></small></td><td>1996.0 <small><i>±219.0</i></small></td><td>1257.0 <small><i>±260.0</i></small></td><td>2649.0 <small><i>±39.0</i></small></td><td>2493.0 <small><i>±51.0</i></small></td></tr><tr><td><b>2</b></td><td>547.0 <small><i>±105.0</i></small></td><td>403.0 <small><i>±184.0</i></small></td><td>1954.0 <small><i>±214.0</i></small></td><td>1585.0 <small><i>±349.0</i></small></td><td>1975.0 <small><i>±461.0</i></small></td></tr><tr><td><b>3</b></td><td>609.0 <small><i>±507.0</i></small></td><td>1179.0 <small><i>±152.0</i></small></td><td>1522.0 <small><i>±376.0</i></small></td><td>3097.0 <small><i>±87.0</i></small></td><td>1800.0 <small><i>±330.0</i></small></td></tr><tr><td><b>4</b></td><td>89.0 <small><i>±1.0</i></small></td><td>59.0 <small><i>±112.0</i></small></td><td>-55.0 <small><i>±0.0</i></small></td><td>-98.0 <small><i>±55.0</i></small></td><td>99.0 <small><i>±68.0</i></small></td></tr></table>"
      ],
      "text/plain": [
       "<IPython.core.display.HTML object>"
      ]
     },
     "metadata": {},
     "output_type": "display_data"
    },
    {
     "data": {
      "text/html": [
       "<h3>Hyper-parameters</h3><ul><li><b>model/classname</b> =salina_cl.models.single.FineTune</li><li><b>model/params/evaluation/n_rollouts</b> =1</li><li><b>model/params/evaluation/evaluate_success</b> =False</li><li><b>model/params/algorithm/classname</b> =salina_cl.algorithms.ppo.ppo</li><li><b>model/params/algorithm/params/optimizer_policy/classname</b> =torch.optim.Adam</li><li><b>model/params/algorithm/params/optimizer_policy/lr</b> =0.0003</li><li><b>model/params/algorithm/params/optimizer_critic/classname</b> =torch.optim.Adam</li><li><b>model/params/algorithm/params/optimizer_critic/lr</b> =0.0003</li><li><b>model/params/algorithm/params/clip_grad</b> =10.0</li><li><b>model/params/algorithm/params/control_every_n_epochs</b> =10</li><li><b>model/params/algorithm/params/n_control_rollouts</b> =0</li><li><b>model/params/algorithm/params/n_timesteps</b> =600</li><li><b>model/params/algorithm/params/n_processes</b> =0</li><li><b>model/params/algorithm/params/n_minibatches</b> =512</li><li><b>model/params/algorithm/params/n_envs_per_minibatch</b> =512</li><li><b>model/params/algorithm/params/n_timesteps_per_minibatch</b> =40</li><li><b>model/params/algorithm/params/n_times_per_minibatch</b> =1</li><li><b>model/params/algorithm/params/discount_factor</b> =0.99</li><li><b>model/params/algorithm/params/clip_ratio</b> =0.3</li><li><b>model/params/algorithm/params/action_std</b> =0.5</li><li><b>model/params/algorithm/params/gae</b> =0.96</li><li><b>model/params/algorithm/params/reward_scaling</b> =1.0</li><li><b>model/params/algorithm/params/time_limit</b> =0</li><li><b>model/params/policy_agent/classname</b> =salina_cl.agents.single_agents.ActionAgent</li><li><b>model/params/policy_agent/hidden_size</b> =64</li><li><b>model/params/policy_agent/n_layers</b> =4</li><li><b>model/params/policy_agent/input_dimension</b> =nil</li><li><b>model/params/policy_agent/output_dimension</b> =nil</li><li><b>model/params/critic_agent/classname</b> =salina_cl.agents.single_agents.CriticAgent</li><li><b>model/params/critic_agent/hidden_size</b> =256</li><li><b>model/params/critic_agent/n_layers</b> =4</li><li><b>model/params/critic_agent/input_dimension</b> =nil</li></ul>"
      ],
      "text/plain": [
       "<IPython.core.display.HTML object>"
      ]
     },
     "metadata": {},
     "output_type": "display_data"
    },
    {
     "data": {
      "text/html": [
       "<h2>____________________________________________________________________________________________________</h2>"
      ],
      "text/plain": [
       "<IPython.core.display.HTML object>"
      ]
     },
     "metadata": {},
     "output_type": "display_data"
    },
    {
     "name": "stdout",
     "output_type": "stream",
     "text": [
      "Analyzing  2  logs\n"
     ]
    },
    {
     "data": {
      "text/html": [
       "<h2>#2</h2>"
      ],
      "text/plain": [
       "<IPython.core.display.HTML object>"
      ]
     },
     "metadata": {},
     "output_type": "display_data"
    },
    {
     "data": {
      "text/html": [
       "<h3>Key metrics</h3><ul><li><b>Final average perf</b> =1627.0</li><li><b>Forward transfer</b> =594.0</li><li><b>Forgetting</b> =155.8</li></ul>"
      ],
      "text/plain": [
       "<IPython.core.display.HTML object>"
      ]
     },
     "metadata": {},
     "output_type": "display_data"
    },
    {
     "data": {
      "text/html": [
       "<h3>Reward</h3><table><tr><td>Task \\ Stage </td><td><b>0</b></td><td><b>1</b></td><td><b>2</b></td><td><b>3</b></td><td><b>4</b></td></tr><tr><td><b>0</b></td><td>1227.0 <small><i>±1197.0</i></small></td><td>1534.0 <small><i>±1216.0</i></small></td><td>2311.0 <small><i>±922.0</i></small></td><td>1519.0 <small><i>±1911.0</i></small></td><td>2761.0 <small><i>±155.0</i></small></td></tr><tr><td><b>1</b></td><td>1272.0 <small><i>±955.0</i></small></td><td>1976.0 <small><i>±443.0</i></small></td><td>2095.0 <small><i>±521.0</i></small></td><td>2671.0 <small><i>±913.0</i></small></td><td>1822.0 <small><i>±1198.0</i></small></td></tr><tr><td><b>2</b></td><td>544.0 <small><i>±348.0</i></small></td><td>408.0 <small><i>±577.0</i></small></td><td>1875.0 <small><i>±65.0</i></small></td><td>2461.0 <small><i>±13.0</i></small></td><td>1390.0 <small><i>±806.0</i></small></td></tr><tr><td><b>3</b></td><td>521.0 <small><i>±598.0</i></small></td><td>831.0 <small><i>±789.0</i></small></td><td>2155.0 <small><i>±531.0</i></small></td><td>2137.0 <small><i>±2035.0</i></small></td><td>2021.0 <small><i>±714.0</i></small></td></tr><tr><td><b>4</b></td><td>69.0 <small><i>±23.0</i></small></td><td>147.0 <small><i>±36.0</i></small></td><td>1.0 <small><i>±125.0</i></small></td><td>-4.0 <small><i>±83.0</i></small></td><td>143.0 <small><i>±54.0</i></small></td></tr></table>"
      ],
      "text/plain": [
       "<IPython.core.display.HTML object>"
      ]
     },
     "metadata": {},
     "output_type": "display_data"
    },
    {
     "data": {
      "text/html": [
       "<h3>Hyper-parameters</h3><ul><li><b>model/classname</b> =salina_cl.models.single.FineTune</li><li><b>model/params/evaluation/n_rollouts</b> =1</li><li><b>model/params/evaluation/evaluate_success</b> =False</li><li><b>model/params/algorithm/classname</b> =salina_cl.algorithms.ppo.ppo</li><li><b>model/params/algorithm/params/optimizer_policy/classname</b> =torch.optim.Adam</li><li><b>model/params/algorithm/params/optimizer_policy/lr</b> =0.0003</li><li><b>model/params/algorithm/params/optimizer_critic/classname</b> =torch.optim.Adam</li><li><b>model/params/algorithm/params/optimizer_critic/lr</b> =0.0003</li><li><b>model/params/algorithm/params/clip_grad</b> =10.0</li><li><b>model/params/algorithm/params/control_every_n_epochs</b> =10</li><li><b>model/params/algorithm/params/n_control_rollouts</b> =0</li><li><b>model/params/algorithm/params/n_timesteps</b> =900</li><li><b>model/params/algorithm/params/n_processes</b> =0</li><li><b>model/params/algorithm/params/n_minibatches</b> =256</li><li><b>model/params/algorithm/params/n_envs_per_minibatch</b> =512</li><li><b>model/params/algorithm/params/n_timesteps_per_minibatch</b> =40</li><li><b>model/params/algorithm/params/n_times_per_minibatch</b> =1</li><li><b>model/params/algorithm/params/discount_factor</b> =0.99</li><li><b>model/params/algorithm/params/clip_ratio</b> =0.3</li><li><b>model/params/algorithm/params/action_std</b> =0.5</li><li><b>model/params/algorithm/params/gae</b> =0.96</li><li><b>model/params/algorithm/params/reward_scaling</b> =1.0</li><li><b>model/params/algorithm/params/time_limit</b> =0</li><li><b>model/params/policy_agent/classname</b> =salina_cl.agents.single_agents.ActionAgent</li><li><b>model/params/policy_agent/hidden_size</b> =64</li><li><b>model/params/policy_agent/n_layers</b> =4</li><li><b>model/params/policy_agent/input_dimension</b> =nil</li><li><b>model/params/policy_agent/output_dimension</b> =nil</li><li><b>model/params/critic_agent/classname</b> =salina_cl.agents.single_agents.CriticAgent</li><li><b>model/params/critic_agent/hidden_size</b> =256</li><li><b>model/params/critic_agent/n_layers</b> =4</li><li><b>model/params/critic_agent/input_dimension</b> =nil</li></ul>"
      ],
      "text/plain": [
       "<IPython.core.display.HTML object>"
      ]
     },
     "metadata": {},
     "output_type": "display_data"
    },
    {
     "data": {
      "text/html": [
       "<h2>____________________________________________________________________________________________________</h2>"
      ],
      "text/plain": [
       "<IPython.core.display.HTML object>"
      ]
     },
     "metadata": {},
     "output_type": "display_data"
    },
    {
     "name": "stdout",
     "output_type": "stream",
     "text": [
      "Analyzing  2  logs\n"
     ]
    },
    {
     "data": {
      "text/html": [
       "<h2>#3</h2>"
      ],
      "text/plain": [
       "<IPython.core.display.HTML object>"
      ]
     },
     "metadata": {},
     "output_type": "display_data"
    },
    {
     "data": {
      "text/html": [
       "<h3>Key metrics</h3><ul><li><b>Final average perf</b> =1606.0</li><li><b>Forward transfer</b> =955.0</li><li><b>Forgetting</b> =-619.6</li></ul>"
      ],
      "text/plain": [
       "<IPython.core.display.HTML object>"
      ]
     },
     "metadata": {},
     "output_type": "display_data"
    },
    {
     "data": {
      "text/html": [
       "<h3>Reward</h3><table><tr><td>Task \\ Stage </td><td><b>0</b></td><td><b>1</b></td><td><b>2</b></td><td><b>3</b></td><td><b>4</b></td></tr><tr><td><b>0</b></td><td>2447.0 <small><i>±154.0</i></small></td><td>2280.0 <small><i>±141.0</i></small></td><td>1252.0 <small><i>±334.0</i></small></td><td>3570.0 <small><i>±577.0</i></small></td><td>2519.0 <small><i>±378.0</i></small></td></tr><tr><td><b>1</b></td><td>2225.0 <small><i>±0.0</i></small></td><td>2379.0 <small><i>±515.0</i></small></td><td>1750.0 <small><i>±985.0</i></small></td><td>3009.0 <small><i>±168.0</i></small></td><td>1307.0 <small><i>±1531.0</i></small></td></tr><tr><td><b>2</b></td><td>845.0 <small><i>±723.0</i></small></td><td>953.0 <small><i>±1118.0</i></small></td><td>2698.0 <small><i>±9.0</i></small></td><td>2644.0 <small><i>±37.0</i></small></td><td>2016.0 <small><i>±458.0</i></small></td></tr><tr><td><b>3</b></td><td>2242.0 <small><i>±194.0</i></small></td><td>1961.0 <small><i>±329.0</i></small></td><td>1536.0 <small><i>±31.0</i></small></td><td>3649.0 <small><i>±738.0</i></small></td><td>2233.0 <small><i>±68.0</i></small></td></tr><tr><td><b>4</b></td><td>103.0 <small><i>±13.0</i></small></td><td>-27.0 <small><i>±63.0</i></small></td><td>-138.0 <small><i>±65.0</i></small></td><td>-146.0 <small><i>±131.0</i></small></td><td>-47.0 <small><i>±0.0</i></small></td></tr></table>"
      ],
      "text/plain": [
       "<IPython.core.display.HTML object>"
      ]
     },
     "metadata": {},
     "output_type": "display_data"
    },
    {
     "data": {
      "text/html": [
       "<h3>Hyper-parameters</h3><ul><li><b>model/classname</b> =salina_cl.models.single.FineTune</li><li><b>model/params/evaluation/n_rollouts</b> =1</li><li><b>model/params/evaluation/evaluate_success</b> =False</li><li><b>model/params/algorithm/classname</b> =salina_cl.algorithms.ppo.ppo</li><li><b>model/params/algorithm/params/optimizer_policy/classname</b> =torch.optim.Adam</li><li><b>model/params/algorithm/params/optimizer_policy/lr</b> =0.0003</li><li><b>model/params/algorithm/params/optimizer_critic/classname</b> =torch.optim.Adam</li><li><b>model/params/algorithm/params/optimizer_critic/lr</b> =0.0003</li><li><b>model/params/algorithm/params/clip_grad</b> =10.0</li><li><b>model/params/algorithm/params/control_every_n_epochs</b> =10</li><li><b>model/params/algorithm/params/n_control_rollouts</b> =0</li><li><b>model/params/algorithm/params/n_timesteps</b> =300</li><li><b>model/params/algorithm/params/n_processes</b> =0</li><li><b>model/params/algorithm/params/n_minibatches</b> =256</li><li><b>model/params/algorithm/params/n_envs_per_minibatch</b> =512</li><li><b>model/params/algorithm/params/n_timesteps_per_minibatch</b> =40</li><li><b>model/params/algorithm/params/n_times_per_minibatch</b> =1</li><li><b>model/params/algorithm/params/discount_factor</b> =0.99</li><li><b>model/params/algorithm/params/clip_ratio</b> =0.3</li><li><b>model/params/algorithm/params/action_std</b> =0.5</li><li><b>model/params/algorithm/params/gae</b> =0.96</li><li><b>model/params/algorithm/params/reward_scaling</b> =1.0</li><li><b>model/params/algorithm/params/time_limit</b> =0</li><li><b>model/params/policy_agent/classname</b> =salina_cl.agents.single_agents.ActionAgent</li><li><b>model/params/policy_agent/hidden_size</b> =64</li><li><b>model/params/policy_agent/n_layers</b> =4</li><li><b>model/params/policy_agent/input_dimension</b> =nil</li><li><b>model/params/policy_agent/output_dimension</b> =nil</li><li><b>model/params/critic_agent/classname</b> =salina_cl.agents.single_agents.CriticAgent</li><li><b>model/params/critic_agent/hidden_size</b> =256</li><li><b>model/params/critic_agent/n_layers</b> =4</li><li><b>model/params/critic_agent/input_dimension</b> =nil</li></ul>"
      ],
      "text/plain": [
       "<IPython.core.display.HTML object>"
      ]
     },
     "metadata": {},
     "output_type": "display_data"
    },
    {
     "data": {
      "text/html": [
       "<h2>____________________________________________________________________________________________________</h2>"
      ],
      "text/plain": [
       "<IPython.core.display.HTML object>"
      ]
     },
     "metadata": {},
     "output_type": "display_data"
    },
    {
     "name": "stdout",
     "output_type": "stream",
     "text": [
      "Analyzing  2  logs\n"
     ]
    },
    {
     "data": {
      "text/html": [
       "<h2>#4</h2>"
      ],
      "text/plain": [
       "<IPython.core.display.HTML object>"
      ]
     },
     "metadata": {},
     "output_type": "display_data"
    },
    {
     "data": {
      "text/html": [
       "<h3>Key metrics</h3><ul><li><b>Final average perf</b> =1593.0</li><li><b>Forward transfer</b> =261.0</li><li><b>Forgetting</b> =220.4</li></ul>"
      ],
      "text/plain": [
       "<IPython.core.display.HTML object>"
      ]
     },
     "metadata": {},
     "output_type": "display_data"
    },
    {
     "data": {
      "text/html": [
       "<h3>Reward</h3><table><tr><td>Task \\ Stage </td><td><b>0</b></td><td><b>1</b></td><td><b>2</b></td><td><b>3</b></td><td><b>4</b></td></tr><tr><td><b>0</b></td><td>930.0 <small><i>±719.0</i></small></td><td>1012.0 <small><i>±507.0</i></small></td><td>1732.0 <small><i>±292.0</i></small></td><td>3281.0 <small><i>±111.0</i></small></td><td>2272.0 <small><i>±191.0</i></small></td></tr><tr><td><b>1</b></td><td>324.0 <small><i>±291.0</i></small></td><td>851.0 <small><i>±557.0</i></small></td><td>1957.0 <small><i>±250.0</i></small></td><td>3198.0 <small><i>±144.0</i></small></td><td>2149.0 <small><i>±255.0</i></small></td></tr><tr><td><b>2</b></td><td>129.0 <small><i>±177.0</i></small></td><td>376.0 <small><i>±491.0</i></small></td><td>1737.0 <small><i>±526.0</i></small></td><td>2141.0 <small><i>±219.0</i></small></td><td>1540.0 <small><i>±123.0</i></small></td></tr><tr><td><b>3</b></td><td>122.0 <small><i>±107.0</i></small></td><td>299.0 <small><i>±6.0</i></small></td><td>1188.0 <small><i>±14.0</i></small></td><td>3290.0 <small><i>±37.0</i></small></td><td>1949.0 <small><i>±536.0</i></small></td></tr><tr><td><b>4</b></td><td>45.0 <small><i>±18.0</i></small></td><td>126.0 <small><i>±26.0</i></small></td><td>11.0 <small><i>±97.0</i></small></td><td>-10.0 <small><i>±74.0</i></small></td><td>53.0 <small><i>±29.0</i></small></td></tr></table>"
      ],
      "text/plain": [
       "<IPython.core.display.HTML object>"
      ]
     },
     "metadata": {},
     "output_type": "display_data"
    },
    {
     "data": {
      "text/html": [
       "<h3>Hyper-parameters</h3><ul><li><b>model/classname</b> =salina_cl.models.single.FineTune</li><li><b>model/params/evaluation/n_rollouts</b> =1</li><li><b>model/params/evaluation/evaluate_success</b> =False</li><li><b>model/params/algorithm/classname</b> =salina_cl.algorithms.ppo.ppo</li><li><b>model/params/algorithm/params/optimizer_policy/classname</b> =torch.optim.Adam</li><li><b>model/params/algorithm/params/optimizer_policy/lr</b> =0.0003</li><li><b>model/params/algorithm/params/optimizer_critic/classname</b> =torch.optim.Adam</li><li><b>model/params/algorithm/params/optimizer_critic/lr</b> =0.0003</li><li><b>model/params/algorithm/params/clip_grad</b> =10.0</li><li><b>model/params/algorithm/params/control_every_n_epochs</b> =10</li><li><b>model/params/algorithm/params/n_control_rollouts</b> =0</li><li><b>model/params/algorithm/params/n_timesteps</b> =900</li><li><b>model/params/algorithm/params/n_processes</b> =0</li><li><b>model/params/algorithm/params/n_minibatches</b> =512</li><li><b>model/params/algorithm/params/n_envs_per_minibatch</b> =512</li><li><b>model/params/algorithm/params/n_timesteps_per_minibatch</b> =20</li><li><b>model/params/algorithm/params/n_times_per_minibatch</b> =1</li><li><b>model/params/algorithm/params/discount_factor</b> =0.99</li><li><b>model/params/algorithm/params/clip_ratio</b> =0.3</li><li><b>model/params/algorithm/params/action_std</b> =0.5</li><li><b>model/params/algorithm/params/gae</b> =0.96</li><li><b>model/params/algorithm/params/reward_scaling</b> =1.0</li><li><b>model/params/algorithm/params/time_limit</b> =0</li><li><b>model/params/policy_agent/classname</b> =salina_cl.agents.single_agents.ActionAgent</li><li><b>model/params/policy_agent/hidden_size</b> =64</li><li><b>model/params/policy_agent/n_layers</b> =4</li><li><b>model/params/policy_agent/input_dimension</b> =nil</li><li><b>model/params/policy_agent/output_dimension</b> =nil</li><li><b>model/params/critic_agent/classname</b> =salina_cl.agents.single_agents.CriticAgent</li><li><b>model/params/critic_agent/hidden_size</b> =256</li><li><b>model/params/critic_agent/n_layers</b> =4</li><li><b>model/params/critic_agent/input_dimension</b> =nil</li></ul>"
      ],
      "text/plain": [
       "<IPython.core.display.HTML object>"
      ]
     },
     "metadata": {},
     "output_type": "display_data"
    },
    {
     "data": {
      "text/html": [
       "<h2>____________________________________________________________________________________________________</h2>"
      ],
      "text/plain": [
       "<IPython.core.display.HTML object>"
      ]
     },
     "metadata": {},
     "output_type": "display_data"
    },
    {
     "name": "stdout",
     "output_type": "stream",
     "text": [
      "Analyzing  2  logs\n"
     ]
    },
    {
     "data": {
      "text/html": [
       "<h2>#5</h2>"
      ],
      "text/plain": [
       "<IPython.core.display.HTML object>"
      ]
     },
     "metadata": {},
     "output_type": "display_data"
    },
    {
     "data": {
      "text/html": [
       "<h3>Key metrics</h3><ul><li><b>Final average perf</b> =1558.0</li><li><b>Forward transfer</b> =642.0</li><li><b>Forgetting</b> =47.4</li></ul>"
      ],
      "text/plain": [
       "<IPython.core.display.HTML object>"
      ]
     },
     "metadata": {},
     "output_type": "display_data"
    },
    {
     "data": {
      "text/html": [
       "<h3>Reward</h3><table><tr><td>Task \\ Stage </td><td><b>0</b></td><td><b>1</b></td><td><b>2</b></td><td><b>3</b></td><td><b>4</b></td></tr><tr><td><b>0</b></td><td>2039.0 <small><i>±430.0</i></small></td><td>2339.0 <small><i>±420.0</i></small></td><td>574.0 <small><i>±552.0</i></small></td><td>548.0 <small><i>±170.0</i></small></td><td>2124.0 <small><i>±451.0</i></small></td></tr><tr><td><b>1</b></td><td>1465.0 <small><i>±1086.0</i></small></td><td>1449.0 <small><i>±886.0</i></small></td><td>380.0 <small><i>±336.0</i></small></td><td>973.0 <small><i>±771.0</i></small></td><td>1693.0 <small><i>±136.0</i></small></td></tr><tr><td><b>2</b></td><td>831.0 <small><i>±28.0</i></small></td><td>689.0 <small><i>±320.0</i></small></td><td>2309.0 <small><i>±277.0</i></small></td><td>1814.0 <small><i>±815.0</i></small></td><td>2016.0 <small><i>±63.0</i></small></td></tr><tr><td><b>3</b></td><td>1484.0 <small><i>±624.0</i></small></td><td>1521.0 <small><i>±162.0</i></small></td><td>967.0 <small><i>±155.0</i></small></td><td>1875.0 <small><i>±1433.0</i></small></td><td>2076.0 <small><i>±77.0</i></small></td></tr><tr><td><b>4</b></td><td>22.0 <small><i>±35.0</i></small></td><td>-63.0 <small><i>±39.0</i></small></td><td>-220.0 <small><i>±60.0</i></small></td><td>-280.0 <small><i>±1.0</i></small></td><td>-120.0 <small><i>±9.0</i></small></td></tr></table>"
      ],
      "text/plain": [
       "<IPython.core.display.HTML object>"
      ]
     },
     "metadata": {},
     "output_type": "display_data"
    },
    {
     "data": {
      "text/html": [
       "<h3>Hyper-parameters</h3><ul><li><b>model/classname</b> =salina_cl.models.single.FineTune</li><li><b>model/params/evaluation/n_rollouts</b> =1</li><li><b>model/params/evaluation/evaluate_success</b> =False</li><li><b>model/params/algorithm/classname</b> =salina_cl.algorithms.ppo.ppo</li><li><b>model/params/algorithm/params/optimizer_policy/classname</b> =torch.optim.Adam</li><li><b>model/params/algorithm/params/optimizer_policy/lr</b> =0.0003</li><li><b>model/params/algorithm/params/optimizer_critic/classname</b> =torch.optim.Adam</li><li><b>model/params/algorithm/params/optimizer_critic/lr</b> =0.0003</li><li><b>model/params/algorithm/params/clip_grad</b> =10.0</li><li><b>model/params/algorithm/params/control_every_n_epochs</b> =10</li><li><b>model/params/algorithm/params/n_control_rollouts</b> =0</li><li><b>model/params/algorithm/params/n_timesteps</b> =300</li><li><b>model/params/algorithm/params/n_processes</b> =0</li><li><b>model/params/algorithm/params/n_minibatches</b> =512</li><li><b>model/params/algorithm/params/n_envs_per_minibatch</b> =512</li><li><b>model/params/algorithm/params/n_timesteps_per_minibatch</b> =40</li><li><b>model/params/algorithm/params/n_times_per_minibatch</b> =1</li><li><b>model/params/algorithm/params/discount_factor</b> =0.99</li><li><b>model/params/algorithm/params/clip_ratio</b> =0.3</li><li><b>model/params/algorithm/params/action_std</b> =0.5</li><li><b>model/params/algorithm/params/gae</b> =0.96</li><li><b>model/params/algorithm/params/reward_scaling</b> =1.0</li><li><b>model/params/algorithm/params/time_limit</b> =0</li><li><b>model/params/policy_agent/classname</b> =salina_cl.agents.single_agents.ActionAgent</li><li><b>model/params/policy_agent/hidden_size</b> =64</li><li><b>model/params/policy_agent/n_layers</b> =4</li><li><b>model/params/policy_agent/input_dimension</b> =nil</li><li><b>model/params/policy_agent/output_dimension</b> =nil</li><li><b>model/params/critic_agent/classname</b> =salina_cl.agents.single_agents.CriticAgent</li><li><b>model/params/critic_agent/hidden_size</b> =256</li><li><b>model/params/critic_agent/n_layers</b> =4</li><li><b>model/params/critic_agent/input_dimension</b> =nil</li></ul>"
      ],
      "text/plain": [
       "<IPython.core.display.HTML object>"
      ]
     },
     "metadata": {},
     "output_type": "display_data"
    },
    {
     "data": {
      "text/html": [
       "<h2>____________________________________________________________________________________________________</h2>"
      ],
      "text/plain": [
       "<IPython.core.display.HTML object>"
      ]
     },
     "metadata": {},
     "output_type": "display_data"
    }
   ],
   "source": [
    "display_best_experiments(PATH, top_k = 5)"
   ]
  },
  {
   "cell_type": "code",
   "execution_count": null,
   "id": "ff278538",
   "metadata": {},
   "outputs": [],
   "source": []
  }
 ],
 "metadata": {
  "kernelspec": {
   "display_name": "Python 3",
   "language": "python",
   "name": "python3"
  },
  "language_info": {
   "codemirror_mode": {
    "name": "ipython",
    "version": 3
   },
   "file_extension": ".py",
   "mimetype": "text/x-python",
   "name": "python",
   "nbconvert_exporter": "python",
   "pygments_lexer": "ipython3",
   "version": "3.8.8"
  }
 },
 "nbformat": 4,
 "nbformat_minor": 5
}
