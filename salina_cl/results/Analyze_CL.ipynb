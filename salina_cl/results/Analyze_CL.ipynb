{
 "cells": [
  {
   "cell_type": "code",
   "execution_count": 20,
   "id": "f4a109d2",
   "metadata": {},
   "outputs": [],
   "source": [
    "import os\n",
    "import sys\n",
    "from salina_cl.results.analyze import *\n",
    "import salina.logger"
   ]
  },
  {
   "cell_type": "markdown",
   "id": "da17c036",
   "metadata": {},
   "source": [
    "#### Enter the path"
   ]
  },
  {
   "cell_type": "code",
   "execution_count": 27,
   "id": "5a1e908f",
   "metadata": {},
   "outputs": [],
   "source": [
    "PATH = \"/private/home/jbgaya/Work/salina/salina_cl/multirun/halfcheetah_hard1/ppo_finetune\""
   ]
  },
  {
   "cell_type": "markdown",
   "id": "ec926b46",
   "metadata": {},
   "source": [
    "# Display best experiments"
   ]
  },
  {
   "cell_type": "code",
   "execution_count": 26,
   "id": "a98a29e9",
   "metadata": {
    "scrolled": false
   },
   "outputs": [
    {
     "name": "stdout",
     "output_type": "stream",
     "text": [
      "Found 108 logs\n"
     ]
    },
    {
     "data": {
      "text/html": [
       "<h2>____________________________________________________________________________________________________</h2>"
      ],
      "text/plain": [
       "<IPython.core.display.HTML object>"
      ]
     },
     "metadata": {},
     "output_type": "display_data"
    },
    {
     "name": "stdout",
     "output_type": "stream",
     "text": [
      "Analyzing  3  logs\n"
     ]
    },
    {
     "data": {
      "text/html": [
       "<h2>#1</h2>"
      ],
      "text/plain": [
       "<IPython.core.display.HTML object>"
      ]
     },
     "metadata": {},
     "output_type": "display_data"
    },
    {
     "data": {
      "text/html": [
       "<h3>Key metrics</h3><ul><li><b>Final average perf</b> =3029.0</li><li><b>Forward transfer</b> =1578.0</li><li><b>Forgetting</b> =615.2</li></ul>"
      ],
      "text/plain": [
       "<IPython.core.display.HTML object>"
      ]
     },
     "metadata": {},
     "output_type": "display_data"
    },
    {
     "data": {
      "text/html": [
       "<h3>Reward</h3><table><tr><td>Task \\ Stage </td><td><b>0</b></td><td><b>1</b></td><td><b>2</b></td><td><b>3</b></td><td><b>4</b></td></tr><tr><td><b>0</b></td><td>2590.0 <small><i>±972.0</i></small></td><td>2177.0 <small><i>±468.0</i></small></td><td>4082.0 <small><i>±465.0</i></small></td><td>1396.0 <small><i>±1311.0</i></small></td><td>3826.0 <small><i>±829.0</i></small></td></tr><tr><td><b>1</b></td><td>732.0 <small><i>±121.0</i></small></td><td>734.0 <small><i>±499.0</i></small></td><td>1098.0 <small><i>±884.0</i></small></td><td>431.0 <small><i>±461.0</i></small></td><td>1315.0 <small><i>±863.0</i></small></td></tr><tr><td><b>2</b></td><td>2469.0 <small><i>±1145.0</i></small></td><td>2359.0 <small><i>±452.0</i></small></td><td>3703.0 <small><i>±1162.0</i></small></td><td>1388.0 <small><i>±1446.0</i></small></td><td>3564.0 <small><i>±212.0</i></small></td></tr><tr><td><b>3</b></td><td>66.0 <small><i>±304.0</i></small></td><td>73.0 <small><i>±230.0</i></small></td><td>1120.0 <small><i>±622.0</i></small></td><td>632.0 <small><i>±544.0</i></small></td><td>2030.0 <small><i>±1036.0</i></small></td></tr><tr><td><b>4</b></td><td>3157.0 <small><i>±734.0</i></small></td><td>1647.0 <small><i>±1254.0</i></small></td><td>3105.0 <small><i>±1083.0</i></small></td><td>1049.0 <small><i>±1247.0</i></small></td><td>4409.0 <small><i>±152.0</i></small></td></tr></table>"
      ],
      "text/plain": [
       "<IPython.core.display.HTML object>"
      ]
     },
     "metadata": {},
     "output_type": "display_data"
    },
    {
     "data": {
      "text/html": [
       "<h3>Hyper-parameters</h3><ul><li><b>model/classname</b> =salina_cl.models.single.FineTune</li><li><b>model/params/evaluation/n_rollouts</b> =1</li><li><b>model/params/evaluation/evaluate_success</b> =False</li><li><b>model/params/algorithm/classname</b> =salina_cl.algorithms.ppo.ppo</li><li><b>model/params/algorithm/params/optimizer_policy/classname</b> =torch.optim.Adam</li><li><b>model/params/algorithm/params/optimizer_policy/lr</b> =0.0003</li><li><b>model/params/algorithm/params/optimizer_critic/classname</b> =torch.optim.Adam</li><li><b>model/params/algorithm/params/optimizer_critic/lr</b> =0.0003</li><li><b>model/params/algorithm/params/clip_grad</b> =10.0</li><li><b>model/params/algorithm/params/control_every_n_epochs</b> =10</li><li><b>model/params/algorithm/params/n_control_rollouts</b> =0</li><li><b>model/params/algorithm/params/n_timesteps</b> =300</li><li><b>model/params/algorithm/params/n_processes</b> =0</li><li><b>model/params/algorithm/params/n_minibatches</b> =512</li><li><b>model/params/algorithm/params/n_envs_per_minibatch</b> =512</li><li><b>model/params/algorithm/params/n_timesteps_per_minibatch</b> =5</li><li><b>model/params/algorithm/params/n_times_per_minibatch</b> =1</li><li><b>model/params/algorithm/params/discount_factor</b> =0.99</li><li><b>model/params/algorithm/params/clip_ratio</b> =0.3</li><li><b>model/params/algorithm/params/action_std</b> =0.5</li><li><b>model/params/algorithm/params/gae</b> =0.96</li><li><b>model/params/algorithm/params/reward_scaling</b> =1.0</li><li><b>model/params/algorithm/params/time_limit</b> =0</li><li><b>model/params/policy_agent/classname</b> =salina_cl.agents.single_agents.ActionAgent</li><li><b>model/params/policy_agent/hidden_size</b> =64</li><li><b>model/params/policy_agent/n_layers</b> =4</li><li><b>model/params/policy_agent/input_dimension</b> =nil</li><li><b>model/params/policy_agent/output_dimension</b> =nil</li><li><b>model/params/critic_agent/classname</b> =salina_cl.agents.single_agents.CriticAgent</li><li><b>model/params/critic_agent/hidden_size</b> =256</li><li><b>model/params/critic_agent/n_layers</b> =4</li><li><b>model/params/critic_agent/input_dimension</b> =nil</li></ul>"
      ],
      "text/plain": [
       "<IPython.core.display.HTML object>"
      ]
     },
     "metadata": {},
     "output_type": "display_data"
    },
    {
     "data": {
      "text/html": [
       "<h2>____________________________________________________________________________________________________</h2>"
      ],
      "text/plain": [
       "<IPython.core.display.HTML object>"
      ]
     },
     "metadata": {},
     "output_type": "display_data"
    },
    {
     "name": "stdout",
     "output_type": "stream",
     "text": [
      "Analyzing  3  logs\n"
     ]
    },
    {
     "data": {
      "text/html": [
       "<h2>#2</h2>"
      ],
      "text/plain": [
       "<IPython.core.display.HTML object>"
      ]
     },
     "metadata": {},
     "output_type": "display_data"
    },
    {
     "data": {
      "text/html": [
       "<h3>Key metrics</h3><ul><li><b>Final average perf</b> =2471.0</li><li><b>Forward transfer</b> =1498.0</li><li><b>Forgetting</b> =-28.2</li></ul>"
      ],
      "text/plain": [
       "<IPython.core.display.HTML object>"
      ]
     },
     "metadata": {},
     "output_type": "display_data"
    },
    {
     "data": {
      "text/html": [
       "<h3>Reward</h3><table><tr><td>Task \\ Stage </td><td><b>0</b></td><td><b>1</b></td><td><b>2</b></td><td><b>3</b></td><td><b>4</b></td></tr><tr><td><b>0</b></td><td>2613.0 <small><i>±457.0</i></small></td><td>2277.0 <small><i>±341.0</i></small></td><td>2937.0 <small><i>±63.0</i></small></td><td>2868.0 <small><i>±324.0</i></small></td><td>2402.0 <small><i>±297.0</i></small></td></tr><tr><td><b>1</b></td><td>1537.0 <small><i>±1236.0</i></small></td><td>1398.0 <small><i>±525.0</i></small></td><td>1498.0 <small><i>±1331.0</i></small></td><td>1542.0 <small><i>±798.0</i></small></td><td>384.0 <small><i>±591.0</i></small></td></tr><tr><td><b>2</b></td><td>1173.0 <small><i>±1231.0</i></small></td><td>1115.0 <small><i>±484.0</i></small></td><td>2124.0 <small><i>±747.0</i></small></td><td>1732.0 <small><i>±643.0</i></small></td><td>3048.0 <small><i>±638.0</i></small></td></tr><tr><td><b>3</b></td><td>1033.0 <small><i>±305.0</i></small></td><td>275.0 <small><i>±634.0</i></small></td><td>553.0 <small><i>±239.0</i></small></td><td>2574.0 <small><i>±97.0</i></small></td><td>2734.0 <small><i>±256.0</i></small></td></tr><tr><td><b>4</b></td><td>2313.0 <small><i>±754.0</i></small></td><td>1513.0 <small><i>±663.0</i></small></td><td>2359.0 <small><i>±662.0</i></small></td><td>3112.0 <small><i>±414.0</i></small></td><td>3789.0 <small><i>±508.0</i></small></td></tr></table>"
      ],
      "text/plain": [
       "<IPython.core.display.HTML object>"
      ]
     },
     "metadata": {},
     "output_type": "display_data"
    },
    {
     "data": {
      "text/html": [
       "<h3>Hyper-parameters</h3><ul><li><b>model/classname</b> =salina_cl.models.single.FineTune</li><li><b>model/params/evaluation/n_rollouts</b> =1</li><li><b>model/params/evaluation/evaluate_success</b> =False</li><li><b>model/params/algorithm/classname</b> =salina_cl.algorithms.ppo.ppo</li><li><b>model/params/algorithm/params/optimizer_policy/classname</b> =torch.optim.Adam</li><li><b>model/params/algorithm/params/optimizer_policy/lr</b> =0.0003</li><li><b>model/params/algorithm/params/optimizer_critic/classname</b> =torch.optim.Adam</li><li><b>model/params/algorithm/params/optimizer_critic/lr</b> =0.0003</li><li><b>model/params/algorithm/params/clip_grad</b> =10.0</li><li><b>model/params/algorithm/params/control_every_n_epochs</b> =10</li><li><b>model/params/algorithm/params/n_control_rollouts</b> =0</li><li><b>model/params/algorithm/params/n_timesteps</b> =300</li><li><b>model/params/algorithm/params/n_processes</b> =0</li><li><b>model/params/algorithm/params/n_minibatches</b> =256</li><li><b>model/params/algorithm/params/n_envs_per_minibatch</b> =512</li><li><b>model/params/algorithm/params/n_timesteps_per_minibatch</b> =20</li><li><b>model/params/algorithm/params/n_times_per_minibatch</b> =1</li><li><b>model/params/algorithm/params/discount_factor</b> =0.99</li><li><b>model/params/algorithm/params/clip_ratio</b> =0.3</li><li><b>model/params/algorithm/params/action_std</b> =0.5</li><li><b>model/params/algorithm/params/gae</b> =0.96</li><li><b>model/params/algorithm/params/reward_scaling</b> =1.0</li><li><b>model/params/algorithm/params/time_limit</b> =0</li><li><b>model/params/policy_agent/classname</b> =salina_cl.agents.single_agents.ActionAgent</li><li><b>model/params/policy_agent/hidden_size</b> =64</li><li><b>model/params/policy_agent/n_layers</b> =4</li><li><b>model/params/policy_agent/input_dimension</b> =nil</li><li><b>model/params/policy_agent/output_dimension</b> =nil</li><li><b>model/params/critic_agent/classname</b> =salina_cl.agents.single_agents.CriticAgent</li><li><b>model/params/critic_agent/hidden_size</b> =256</li><li><b>model/params/critic_agent/n_layers</b> =4</li><li><b>model/params/critic_agent/input_dimension</b> =nil</li></ul>"
      ],
      "text/plain": [
       "<IPython.core.display.HTML object>"
      ]
     },
     "metadata": {},
     "output_type": "display_data"
    },
    {
     "data": {
      "text/html": [
       "<h2>____________________________________________________________________________________________________</h2>"
      ],
      "text/plain": [
       "<IPython.core.display.HTML object>"
      ]
     },
     "metadata": {},
     "output_type": "display_data"
    },
    {
     "name": "stdout",
     "output_type": "stream",
     "text": [
      "Analyzing  3  logs\n"
     ]
    },
    {
     "data": {
      "text/html": [
       "<h2>#3</h2>"
      ],
      "text/plain": [
       "<IPython.core.display.HTML object>"
      ]
     },
     "metadata": {},
     "output_type": "display_data"
    },
    {
     "data": {
      "text/html": [
       "<h3>Key metrics</h3><ul><li><b>Final average perf</b> =2465.0</li><li><b>Forward transfer</b> =1059.0</li><li><b>Forgetting</b> =208.2</li></ul>"
      ],
      "text/plain": [
       "<IPython.core.display.HTML object>"
      ]
     },
     "metadata": {},
     "output_type": "display_data"
    },
    {
     "data": {
      "text/html": [
       "<h3>Reward</h3><table><tr><td>Task \\ Stage </td><td><b>0</b></td><td><b>1</b></td><td><b>2</b></td><td><b>3</b></td><td><b>4</b></td></tr><tr><td><b>0</b></td><td>1760.0 <small><i>±191.0</i></small></td><td>1768.0 <small><i>±1242.0</i></small></td><td>2940.0 <small><i>±284.0</i></small></td><td>2481.0 <small><i>±896.0</i></small></td><td>3057.0 <small><i>±354.0</i></small></td></tr><tr><td><b>1</b></td><td>1068.0 <small><i>±564.0</i></small></td><td>1190.0 <small><i>±564.0</i></small></td><td>2125.0 <small><i>±1700.0</i></small></td><td>1144.0 <small><i>±430.0</i></small></td><td>873.0 <small><i>±392.0</i></small></td></tr><tr><td><b>2</b></td><td>1103.0 <small><i>±1090.0</i></small></td><td>1625.0 <small><i>±943.0</i></small></td><td>2844.0 <small><i>±609.0</i></small></td><td>1413.0 <small><i>±660.0</i></small></td><td>2546.0 <small><i>±1314.0</i></small></td></tr><tr><td><b>3</b></td><td>441.0 <small><i>±676.0</i></small></td><td>312.0 <small><i>±480.0</i></small></td><td>554.0 <small><i>±592.0</i></small></td><td>1716.0 <small><i>±413.0</i></small></td><td>2075.0 <small><i>±476.0</i></small></td></tr><tr><td><b>4</b></td><td>387.0 <small><i>±329.0</i></small></td><td>1843.0 <small><i>±504.0</i></small></td><td>1555.0 <small><i>±1111.0</i></small></td><td>1701.0 <small><i>±757.0</i></small></td><td>3774.0 <small><i>±1090.0</i></small></td></tr></table>"
      ],
      "text/plain": [
       "<IPython.core.display.HTML object>"
      ]
     },
     "metadata": {},
     "output_type": "display_data"
    },
    {
     "data": {
      "text/html": [
       "<h3>Hyper-parameters</h3><ul><li><b>model/classname</b> =salina_cl.models.single.FineTune</li><li><b>model/params/evaluation/n_rollouts</b> =1</li><li><b>model/params/evaluation/evaluate_success</b> =False</li><li><b>model/params/algorithm/classname</b> =salina_cl.algorithms.ppo.ppo</li><li><b>model/params/algorithm/params/optimizer_policy/classname</b> =torch.optim.Adam</li><li><b>model/params/algorithm/params/optimizer_policy/lr</b> =0.0003</li><li><b>model/params/algorithm/params/optimizer_critic/classname</b> =torch.optim.Adam</li><li><b>model/params/algorithm/params/optimizer_critic/lr</b> =0.0003</li><li><b>model/params/algorithm/params/clip_grad</b> =10.0</li><li><b>model/params/algorithm/params/control_every_n_epochs</b> =10</li><li><b>model/params/algorithm/params/n_control_rollouts</b> =0</li><li><b>model/params/algorithm/params/n_timesteps</b> =600</li><li><b>model/params/algorithm/params/n_processes</b> =0</li><li><b>model/params/algorithm/params/n_minibatches</b> =256</li><li><b>model/params/algorithm/params/n_envs_per_minibatch</b> =512</li><li><b>model/params/algorithm/params/n_timesteps_per_minibatch</b> =40</li><li><b>model/params/algorithm/params/n_times_per_minibatch</b> =1</li><li><b>model/params/algorithm/params/discount_factor</b> =0.99</li><li><b>model/params/algorithm/params/clip_ratio</b> =0.3</li><li><b>model/params/algorithm/params/action_std</b> =0.5</li><li><b>model/params/algorithm/params/gae</b> =0.96</li><li><b>model/params/algorithm/params/reward_scaling</b> =1.0</li><li><b>model/params/algorithm/params/time_limit</b> =0</li><li><b>model/params/policy_agent/classname</b> =salina_cl.agents.single_agents.ActionAgent</li><li><b>model/params/policy_agent/hidden_size</b> =64</li><li><b>model/params/policy_agent/n_layers</b> =4</li><li><b>model/params/policy_agent/input_dimension</b> =nil</li><li><b>model/params/policy_agent/output_dimension</b> =nil</li><li><b>model/params/critic_agent/classname</b> =salina_cl.agents.single_agents.CriticAgent</li><li><b>model/params/critic_agent/hidden_size</b> =256</li><li><b>model/params/critic_agent/n_layers</b> =4</li><li><b>model/params/critic_agent/input_dimension</b> =nil</li></ul>"
      ],
      "text/plain": [
       "<IPython.core.display.HTML object>"
      ]
     },
     "metadata": {},
     "output_type": "display_data"
    },
    {
     "data": {
      "text/html": [
       "<h2>____________________________________________________________________________________________________</h2>"
      ],
      "text/plain": [
       "<IPython.core.display.HTML object>"
      ]
     },
     "metadata": {},
     "output_type": "display_data"
    },
    {
     "name": "stdout",
     "output_type": "stream",
     "text": [
      "Analyzing  3  logs\n"
     ]
    },
    {
     "data": {
      "text/html": [
       "<h2>#4</h2>"
      ],
      "text/plain": [
       "<IPython.core.display.HTML object>"
      ]
     },
     "metadata": {},
     "output_type": "display_data"
    },
    {
     "data": {
      "text/html": [
       "<h3>Key metrics</h3><ul><li><b>Final average perf</b> =2402.0</li><li><b>Forward transfer</b> =1259.0</li><li><b>Forgetting</b> =250.6</li></ul>"
      ],
      "text/plain": [
       "<IPython.core.display.HTML object>"
      ]
     },
     "metadata": {},
     "output_type": "display_data"
    },
    {
     "data": {
      "text/html": [
       "<h3>Reward</h3><table><tr><td>Task \\ Stage </td><td><b>0</b></td><td><b>1</b></td><td><b>2</b></td><td><b>3</b></td><td><b>4</b></td></tr><tr><td><b>0</b></td><td>1562.0 <small><i>±830.0</i></small></td><td>1686.0 <small><i>±779.0</i></small></td><td>2184.0 <small><i>±1212.0</i></small></td><td>1977.0 <small><i>±942.0</i></small></td><td>3297.0 <small><i>±906.0</i></small></td></tr><tr><td><b>1</b></td><td>1386.0 <small><i>±1242.0</i></small></td><td>808.0 <small><i>±502.0</i></small></td><td>1196.0 <small><i>±694.0</i></small></td><td>651.0 <small><i>±184.0</i></small></td><td>1017.0 <small><i>±790.0</i></small></td></tr><tr><td><b>2</b></td><td>603.0 <small><i>±442.0</i></small></td><td>1536.0 <small><i>±907.0</i></small></td><td>2283.0 <small><i>±1247.0</i></small></td><td>1539.0 <small><i>±789.0</i></small></td><td>1901.0 <small><i>±909.0</i></small></td></tr><tr><td><b>3</b></td><td>922.0 <small><i>±921.0</i></small></td><td>830.0 <small><i>±1047.0</i></small></td><td>853.0 <small><i>±978.0</i></small></td><td>2045.0 <small><i>±576.0</i></small></td><td>1736.0 <small><i>±1178.0</i></small></td></tr><tr><td><b>4</b></td><td>1294.0 <small><i>±1098.0</i></small></td><td>1004.0 <small><i>±607.0</i></small></td><td>1959.0 <small><i>±1123.0</i></small></td><td>2205.0 <small><i>±964.0</i></small></td><td>4059.0 <small><i>±744.0</i></small></td></tr></table>"
      ],
      "text/plain": [
       "<IPython.core.display.HTML object>"
      ]
     },
     "metadata": {},
     "output_type": "display_data"
    },
    {
     "data": {
      "text/html": [
       "<h3>Hyper-parameters</h3><ul><li><b>model/classname</b> =salina_cl.models.single.FineTune</li><li><b>model/params/evaluation/n_rollouts</b> =1</li><li><b>model/params/evaluation/evaluate_success</b> =False</li><li><b>model/params/algorithm/classname</b> =salina_cl.algorithms.ppo.ppo</li><li><b>model/params/algorithm/params/optimizer_policy/classname</b> =torch.optim.Adam</li><li><b>model/params/algorithm/params/optimizer_policy/lr</b> =0.0003</li><li><b>model/params/algorithm/params/optimizer_critic/classname</b> =torch.optim.Adam</li><li><b>model/params/algorithm/params/optimizer_critic/lr</b> =0.0003</li><li><b>model/params/algorithm/params/clip_grad</b> =10.0</li><li><b>model/params/algorithm/params/control_every_n_epochs</b> =10</li><li><b>model/params/algorithm/params/n_control_rollouts</b> =0</li><li><b>model/params/algorithm/params/n_timesteps</b> =600</li><li><b>model/params/algorithm/params/n_processes</b> =0</li><li><b>model/params/algorithm/params/n_minibatches</b> =256</li><li><b>model/params/algorithm/params/n_envs_per_minibatch</b> =512</li><li><b>model/params/algorithm/params/n_timesteps_per_minibatch</b> =20</li><li><b>model/params/algorithm/params/n_times_per_minibatch</b> =1</li><li><b>model/params/algorithm/params/discount_factor</b> =0.99</li><li><b>model/params/algorithm/params/clip_ratio</b> =0.3</li><li><b>model/params/algorithm/params/action_std</b> =0.5</li><li><b>model/params/algorithm/params/gae</b> =0.96</li><li><b>model/params/algorithm/params/reward_scaling</b> =1.0</li><li><b>model/params/algorithm/params/time_limit</b> =0</li><li><b>model/params/policy_agent/classname</b> =salina_cl.agents.single_agents.ActionAgent</li><li><b>model/params/policy_agent/hidden_size</b> =64</li><li><b>model/params/policy_agent/n_layers</b> =4</li><li><b>model/params/policy_agent/input_dimension</b> =nil</li><li><b>model/params/policy_agent/output_dimension</b> =nil</li><li><b>model/params/critic_agent/classname</b> =salina_cl.agents.single_agents.CriticAgent</li><li><b>model/params/critic_agent/hidden_size</b> =256</li><li><b>model/params/critic_agent/n_layers</b> =4</li><li><b>model/params/critic_agent/input_dimension</b> =nil</li></ul>"
      ],
      "text/plain": [
       "<IPython.core.display.HTML object>"
      ]
     },
     "metadata": {},
     "output_type": "display_data"
    },
    {
     "data": {
      "text/html": [
       "<h2>____________________________________________________________________________________________________</h2>"
      ],
      "text/plain": [
       "<IPython.core.display.HTML object>"
      ]
     },
     "metadata": {},
     "output_type": "display_data"
    },
    {
     "name": "stdout",
     "output_type": "stream",
     "text": [
      "Analyzing  3  logs\n"
     ]
    },
    {
     "data": {
      "text/html": [
       "<h2>#5</h2>"
      ],
      "text/plain": [
       "<IPython.core.display.HTML object>"
      ]
     },
     "metadata": {},
     "output_type": "display_data"
    },
    {
     "data": {
      "text/html": [
       "<h3>Key metrics</h3><ul><li><b>Final average perf</b> =2388.0</li><li><b>Forward transfer</b> =1860.0</li><li><b>Forgetting</b> =-323.8</li></ul>"
      ],
      "text/plain": [
       "<IPython.core.display.HTML object>"
      ]
     },
     "metadata": {},
     "output_type": "display_data"
    },
    {
     "data": {
      "text/html": [
       "<h3>Reward</h3><table><tr><td>Task \\ Stage </td><td><b>0</b></td><td><b>1</b></td><td><b>2</b></td><td><b>3</b></td><td><b>4</b></td></tr><tr><td><b>0</b></td><td>3383.0 <small><i>±147.0</i></small></td><td>2816.0 <small><i>±341.0</i></small></td><td>3437.0 <small><i>±344.0</i></small></td><td>2167.0 <small><i>±838.0</i></small></td><td>3226.0 <small><i>±820.0</i></small></td></tr><tr><td><b>1</b></td><td>901.0 <small><i>±559.0</i></small></td><td>1352.0 <small><i>±763.0</i></small></td><td>949.0 <small><i>±423.0</i></small></td><td>549.0 <small><i>±620.0</i></small></td><td>745.0 <small><i>±901.0</i></small></td></tr><tr><td><b>2</b></td><td>2588.0 <small><i>±1572.0</i></small></td><td>2049.0 <small><i>±1175.0</i></small></td><td>2725.0 <small><i>±172.0</i></small></td><td>1148.0 <small><i>±334.0</i></small></td><td>2045.0 <small><i>±925.0</i></small></td></tr><tr><td><b>3</b></td><td>964.0 <small><i>±324.0</i></small></td><td>544.0 <small><i>±156.0</i></small></td><td>1157.0 <small><i>±259.0</i></small></td><td>2888.0 <small><i>±401.0</i></small></td><td>2713.0 <small><i>±123.0</i></small></td></tr><tr><td><b>4</b></td><td>3002.0 <small><i>±633.0</i></small></td><td>2946.0 <small><i>±634.0</i></small></td><td>3253.0 <small><i>±357.0</i></small></td><td>1191.0 <small><i>±733.0</i></small></td><td>3212.0 <small><i>±1093.0</i></small></td></tr></table>"
      ],
      "text/plain": [
       "<IPython.core.display.HTML object>"
      ]
     },
     "metadata": {},
     "output_type": "display_data"
    },
    {
     "data": {
      "text/html": [
       "<h3>Hyper-parameters</h3><ul><li><b>model/classname</b> =salina_cl.models.single.FineTune</li><li><b>model/params/evaluation/n_rollouts</b> =1</li><li><b>model/params/evaluation/evaluate_success</b> =False</li><li><b>model/params/algorithm/classname</b> =salina_cl.algorithms.ppo.ppo</li><li><b>model/params/algorithm/params/optimizer_policy/classname</b> =torch.optim.Adam</li><li><b>model/params/algorithm/params/optimizer_policy/lr</b> =0.0003</li><li><b>model/params/algorithm/params/optimizer_critic/classname</b> =torch.optim.Adam</li><li><b>model/params/algorithm/params/optimizer_critic/lr</b> =0.0003</li><li><b>model/params/algorithm/params/clip_grad</b> =10.0</li><li><b>model/params/algorithm/params/control_every_n_epochs</b> =10</li><li><b>model/params/algorithm/params/n_control_rollouts</b> =0</li><li><b>model/params/algorithm/params/n_timesteps</b> =300</li><li><b>model/params/algorithm/params/n_processes</b> =0</li><li><b>model/params/algorithm/params/n_minibatches</b> =512</li><li><b>model/params/algorithm/params/n_envs_per_minibatch</b> =512</li><li><b>model/params/algorithm/params/n_timesteps_per_minibatch</b> =20</li><li><b>model/params/algorithm/params/n_times_per_minibatch</b> =1</li><li><b>model/params/algorithm/params/discount_factor</b> =0.99</li><li><b>model/params/algorithm/params/clip_ratio</b> =0.3</li><li><b>model/params/algorithm/params/action_std</b> =0.5</li><li><b>model/params/algorithm/params/gae</b> =0.96</li><li><b>model/params/algorithm/params/reward_scaling</b> =1.0</li><li><b>model/params/algorithm/params/time_limit</b> =0</li><li><b>model/params/policy_agent/classname</b> =salina_cl.agents.single_agents.ActionAgent</li><li><b>model/params/policy_agent/hidden_size</b> =64</li><li><b>model/params/policy_agent/n_layers</b> =4</li><li><b>model/params/policy_agent/input_dimension</b> =nil</li><li><b>model/params/policy_agent/output_dimension</b> =nil</li><li><b>model/params/critic_agent/classname</b> =salina_cl.agents.single_agents.CriticAgent</li><li><b>model/params/critic_agent/hidden_size</b> =256</li><li><b>model/params/critic_agent/n_layers</b> =4</li><li><b>model/params/critic_agent/input_dimension</b> =nil</li></ul>"
      ],
      "text/plain": [
       "<IPython.core.display.HTML object>"
      ]
     },
     "metadata": {},
     "output_type": "display_data"
    },
    {
     "data": {
      "text/html": [
       "<h2>____________________________________________________________________________________________________</h2>"
      ],
      "text/plain": [
       "<IPython.core.display.HTML object>"
      ]
     },
     "metadata": {},
     "output_type": "display_data"
    }
   ],
   "source": [
    "display_best_experiments(PATH, top_k = 5)"
   ]
  },
  {
   "cell_type": "code",
   "execution_count": null,
   "id": "6960bfa8",
   "metadata": {},
   "outputs": [],
   "source": []
  }
 ],
 "metadata": {
  "kernelspec": {
   "display_name": "Python 3",
   "language": "python",
   "name": "python3"
  },
  "language_info": {
   "codemirror_mode": {
    "name": "ipython",
    "version": 3
   },
   "file_extension": ".py",
   "mimetype": "text/x-python",
   "name": "python",
   "nbconvert_exporter": "python",
   "pygments_lexer": "ipython3",
   "version": "3.8.8"
  }
 },
 "nbformat": 4,
 "nbformat_minor": 5
}
