{
 "cells": [
  {
   "cell_type": "code",
   "execution_count": null,
   "id": "f4a109d2",
   "metadata": {},
   "outputs": [],
   "source": [
    "import os\n",
    "import sys\n",
    "from salina_cl.results.analyze import *\n",
    "import salina.logger"
   ]
  },
  {
   "cell_type": "markdown",
   "id": "da17c036",
   "metadata": {},
   "source": [
    "#### Enter the path"
   ]
  },
  {
   "cell_type": "code",
   "execution_count": null,
   "id": "5a1e908f",
   "metadata": {},
   "outputs": [],
   "source": [
    "PATH = \"/private/home/jbgaya/Work/salina/salina_cl/multirun/halfcheetah_hard1/ppo_finetune\""
   ]
  },
  {
   "cell_type": "markdown",
   "id": "ec926b46",
   "metadata": {},
   "source": [
    "# Display best experiments"
   ]
  },
  {
   "cell_type": "code",
   "execution_count": null,
   "id": "a98a29e9",
   "metadata": {
    "scrolled": false
   },
   "outputs": [],
   "source": [
    "display_best_experiments(PATH, top_k = 5)"
   ]
  },
  {
   "cell_type": "code",
   "execution_count": null,
   "id": "d22932b1",
   "metadata": {},
   "outputs": [],
   "source": []
  }
 ],
 "metadata": {
  "kernelspec": {
   "display_name": "Python 3",
   "language": "python",
   "name": "python3"
  },
  "language_info": {
   "codemirror_mode": {
    "name": "ipython",
    "version": 3
   },
   "file_extension": ".py",
   "mimetype": "text/x-python",
   "name": "python",
   "nbconvert_exporter": "python",
   "pygments_lexer": "ipython3",
   "version": "3.8.8"
  }
 },
 "nbformat": 4,
 "nbformat_minor": 5
}
