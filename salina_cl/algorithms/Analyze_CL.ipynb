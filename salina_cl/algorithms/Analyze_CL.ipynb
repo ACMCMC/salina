{
 "cells": [
  {
   "cell_type": "code",
   "execution_count": 1,
   "id": "f4a109d2",
   "metadata": {},
   "outputs": [],
   "source": [
    "import os\n",
    "import sys\n",
    "sys.path.insert(0, os.path.abspath('/home/denoyer/workspace/salina'))\n"
   ]
  },
  {
   "cell_type": "markdown",
   "id": "ec926b46",
   "metadata": {},
   "source": [
    "# Loading logs"
   ]
  },
  {
   "cell_type": "code",
   "execution_count": 2,
   "id": "d3ead582",
   "metadata": {},
   "outputs": [
    {
     "name": "stdout",
     "output_type": "stream",
     "text": [
      "== Read  /home/denoyer/workspace/multirun/2022-01-20/17-18-52/5/ppo_finetune\n",
      "== Read  /home/denoyer/workspace/multirun/2022-01-20/17-18-52/2/ppo_finetune\n",
      "== Read  /home/denoyer/workspace/multirun/2022-01-20/17-18-52/4/ppo_finetune\n",
      "== Read  /home/denoyer/workspace/multirun/2022-01-20/17-18-52/1/ppo_finetune\n",
      "== Read  /home/denoyer/workspace/multirun/2022-01-20/17-18-52/3/ppo_finetune\n",
      "== Read  /home/denoyer/workspace/multirun/2022-01-20/17-18-52/0/ppo_finetune\n",
      "Found 6 logs\n"
     ]
    }
   ],
   "source": [
    "import salina.logger\n",
    "LOGS=salina.logger.read_directory(\"/home/denoyer/workspace/multirun\",use_bz2=True)"
   ]
  },
  {
   "cell_type": "markdown",
   "id": "5bbc7db9",
   "metadata": {},
   "source": [
    "# Extracting available scenarios"
   ]
  },
  {
   "cell_type": "code",
   "execution_count": 3,
   "id": "6fa2c906",
   "metadata": {},
   "outputs": [
    {
     "name": "stdout",
     "output_type": "stream",
     "text": [
      "Found  1  unique scenarios\n"
     ]
    }
   ],
   "source": [
    "def extract_scenario(log):\n",
    "    values={}\n",
    "    for k in log.hps:\n",
    "        if k.startswith(\"scenario\"):\n",
    "            values[k]=log.hps[k]\n",
    "    return values\n",
    "\n",
    "def has_scenario(log,scenario):\n",
    "    s=extract_scenario(log)\n",
    "    s=str(s)\n",
    "    return s==str(scenario)\n",
    "    \n",
    "def unique_scenarios(logs):\n",
    "    _unique_scenarios={}\n",
    "    for l in logs.logs:\n",
    "        scenario=extract_scenario(l)\n",
    "        _unique_scenarios[str(scenario)]=scenario\n",
    "    _unique_scenarios=[v for s,v in _unique_scenarios.items()]\n",
    "    return _unique_scenarios\n",
    "print(\"Found \",len(unique_scenarios(LOGS)),\" unique scenarios\")\n",
    "\n",
    "def generate_scenario_html(scenario):\n",
    "    results=[\"<h2>Scenario</h2>\"]\n",
    "    results.append(\"<ul>\")\n",
    "    \n",
    "    for k,v in scenario.items():\n",
    "        results.append(\"<li><b>\"+k+\"</b> =\"+str(v)+\"</li>\")\n",
    "    results.append(\"</ul>\")\n",
    "    return \"\".join(results)"
   ]
  },
  {
   "cell_type": "code",
   "execution_count": 4,
   "id": "19202782",
   "metadata": {},
   "outputs": [],
   "source": [
    "def generate_hps_html(hps):\n",
    "    results=[\"<h2>Hyper-parameters</h2>\"]\n",
    "    results.append(\"<ul>\")\n",
    "    \n",
    "    for k,v in hps.items():\n",
    "        if k.startswith(\"model\"):\n",
    "            results.append(\"<li><b>\"+k+\"</b> =\"+str(v)+\"</li>\")\n",
    "    results.append(\"</ul>\")\n",
    "    return \"\".join(results)\n",
    "\n",
    "def generate_reward_html(reward_mean,reward_std):\n",
    "    results=[\"<h2>Reward</h2>\"]\n",
    "    results.append(\"<table>\")\n",
    "    n,_=reward_mean.shape\n",
    "    \n",
    "    results.append(\"<tr><td>Task \\\\ Stage </td>\")\n",
    "    for stage in range(n): results.append(\"<td><b>\"+str(stage)+\"</b></td>\")\n",
    "    results.append(\"</tr>\")\n",
    "    \n",
    "    for task in range(n):\n",
    "        results.append(\"<tr><td><b>\"+str(task)+\"</b></td>\")\n",
    "        for stage in range(n): \n",
    "            r=reward_mean[task][stage]\n",
    "            rs=reward_std[task][stage]\n",
    "            results.append(\"<td>\"+str(r)+\"<i>(\"+str(rs)+\")</i></td>\")\n",
    "        results.append(\"</tr>\")\n",
    "    results.append(\"</table>\")\n",
    "    return \"\".join(results)\n"
   ]
  },
  {
   "cell_type": "markdown",
   "id": "39bc5344",
   "metadata": {},
   "source": [
    "# Extracting unique hps"
   ]
  },
  {
   "cell_type": "code",
   "execution_count": 5,
   "id": "9d277328",
   "metadata": {},
   "outputs": [],
   "source": [
    "# Remove the run information and extrat the hps as a str in each log\n",
    "import copy\n",
    "def extract_hps(log):\n",
    "    values={}\n",
    "    for k,v in log.hps.items():\n",
    "        if not k==\"model/seed\" and not k.endswith(\"device\"):\n",
    "            values[k]=v\n",
    "    return values\n",
    "    "
   ]
  },
  {
   "cell_type": "markdown",
   "id": "d0a48f31",
   "metadata": {},
   "source": [
    "# Scenario Analysis"
   ]
  },
  {
   "cell_type": "code",
   "execution_count": 6,
   "id": "d39359a9",
   "metadata": {},
   "outputs": [
    {
     "data": {
      "text/html": [
       "<h2>Scenario</h2><ul><li><b>scenario/classname</b> =salina_cl.scenarios.classic_control.cartpole.cartpole_test</li><li><b>scenario/n_train_envs</b> =16</li><li><b>scenario/n_evaluation_envs</b> =64</li><li><b>scenario/n_tasks</b> =6</li><li><b>scenario/n_steps</b> =100000</li></ul>"
      ],
      "text/plain": [
       "<IPython.core.display.HTML object>"
      ]
     },
     "metadata": {},
     "output_type": "display_data"
    },
    {
     "name": "stdout",
     "output_type": "stream",
     "text": [
      "Found  2  different Hps values\n",
      "Analyzing  3  logs\n"
     ]
    },
    {
     "data": {
      "text/html": [
       "<h2>Hyper-parameters</h2><ul><li><b>model/classname</b> =salina_cl.algorithms.ppo_finetune.model.PPOFineTune</li><li><b>model/params/evaluation/n_rollouts</b> =10</li><li><b>model/params/evaluation/evaluate_success</b> =False</li><li><b>model/params/ppo/optimizer_policy/classname</b> =torch.optim.Adam</li><li><b>model/params/ppo/optimizer_policy/lr</b> =0.0003</li><li><b>model/params/ppo/optimizer_critic/classname</b> =torch.optim.Adam</li><li><b>model/params/ppo/optimizer_critic/lr</b> =0.0003</li><li><b>model/params/ppo/clip_grad</b> =10.0</li><li><b>model/params/ppo/control_every_n_epochs</b> =10</li><li><b>model/params/ppo/n_control_rollouts</b> =1</li><li><b>model/params/ppo/n_timesteps</b> =32</li><li><b>model/params/ppo/n_processes</b> =1</li><li><b>model/params/ppo/n_mini_batches</b> =8</li><li><b>model/params/ppo/n_envs_per_minibatch</b> =16</li><li><b>model/params/ppo/n_timesteps_per_minibatch</b> =16</li><li><b>model/params/ppo/n_times_per_minibatch</b> =1</li><li><b>model/params/ppo/discount_factor</b> =0.95</li><li><b>model/params/ppo/clip_ratio</b> =0.2</li><li><b>model/params/ppo/action_std</b> =0.4</li><li><b>model/params/ppo/gae</b> =0.95</li><li><b>model/params/ppo/reward_scaling</b> =1.0</li><li><b>model/params/ppo/time_limit</b> =0</li><li><b>model/params/ppo_agent/classname</b> =salina_cl.algorithms.ppo_finetune.agents.ActionAgent</li><li><b>model/params/ppo_agent/hidden_size</b> =256</li><li><b>model/params/ppo_agent/n_layers</b> =2</li><li><b>model/params/ppo_agent/input_dimension</b> =nil</li><li><b>model/params/ppo_agent/output_dimension</b> =nil</li><li><b>model/params/critic_agent/classname</b> =salina_cl.algorithms.ppo_finetune.agents.CriticAgent</li><li><b>model/params/critic_agent/hidden_size</b> =256</li><li><b>model/params/critic_agent/n_layers</b> =2</li><li><b>model/params/critic_agent/input_dimension</b> =nil</li></ul>"
      ],
      "text/plain": [
       "<IPython.core.display.HTML object>"
      ]
     },
     "metadata": {},
     "output_type": "display_data"
    },
    {
     "data": {
      "text/html": [
       "<h2>Reward</h2><table><tr><td>Task \\ Stage </td><td><b>0</b></td><td><b>1</b></td><td><b>2</b></td><td><b>3</b></td><td><b>4</b></td><td><b>5</b></td></tr><tr><td><b>0</b></td><td>100.0<i>(0.0)</i></td><td>75.096875<i>(31.435961342503013)</i></td><td>93.30572916666667<i>(11.594817202959783)</i></td><td>99.87135416666666<i>(0.2228211195153685)</i></td><td>99.99895833333333<i>(0.0018042195912159396)</i></td><td>100.0<i>(0.0)</i></td></tr><tr><td><b>1</b></td><td>46.275<i>(1.545491805825904)</i></td><td>48.660937499999996<i>(5.189827461682251)</i></td><td>50.7578125<i>(10.505568185044776)</i></td><td>51.229166666666664<i>(11.92959349722842)</i></td><td>50.77239583333333<i>(11.690110559606925)</i></td><td>50.66614583333333<i>(11.76083332595243)</i></td></tr><tr><td><b>2</b></td><td>76.628125<i>(29.359536862579365)</i></td><td>20.072916666666668<i>(11.195897940612651)</i></td><td>100.0<i>(0.0)</i></td><td>67.07864583333333<i>(33.41110203353149)</i></td><td>68.75677083333333<i>(31.34502234196826)</i></td><td>62.62291666666667<i>(33.2850674649434)</i></td></tr><tr><td><b>3</b></td><td>95.19010416666667<i>(3.3857043547635106)</i></td><td>81.371875<i>(21.099232620820594)</i></td><td>76.48125<i>(29.527494470196757)</i></td><td>99.63541666666667<i>(0.5433420104911708)</i></td><td>99.94166666666666<i>(0.10103629710818082)</i></td><td>98.08541666666667<i>(3.3161556086579145)</i></td></tr><tr><td><b>4</b></td><td>97.3859375<i>(3.456308275390271)</i></td><td>77.04010416666667<i>(29.468510998390123)</i></td><td>88.753125<i>(19.243840773474602)</i></td><td>99.44114583333334<i>(0.9077524363377322)</i></td><td>99.95989583333333<i>(0.06946245426187521)</i></td><td>100.0<i>(0.0)</i></td></tr><tr><td><b>5</b></td><td>79.0109375<i>(15.177149572321708)</i></td><td>70.3640625<i>(26.822075841392408)</i></td><td>76.4578125<i>(35.262611641583725)</i></td><td>94.75364583333334<i>(4.935975420609853)</i></td><td>97.840625<i>(3.74014721259405)</i></td><td>99.9890625<i>(0.01894430570778993)</i></td></tr></table>"
      ],
      "text/plain": [
       "<IPython.core.display.HTML object>"
      ]
     },
     "metadata": {},
     "output_type": "display_data"
    },
    {
     "name": "stdout",
     "output_type": "stream",
     "text": [
      "Analyzing  3  logs\n"
     ]
    },
    {
     "data": {
      "text/html": [
       "<h2>Hyper-parameters</h2><ul><li><b>model/classname</b> =salina_cl.algorithms.ppo_finetune.model.PPOFineTune</li><li><b>model/params/evaluation/n_rollouts</b> =10</li><li><b>model/params/evaluation/evaluate_success</b> =False</li><li><b>model/params/ppo/optimizer_policy/classname</b> =torch.optim.Adam</li><li><b>model/params/ppo/optimizer_policy/lr</b> =0.0003</li><li><b>model/params/ppo/optimizer_critic/classname</b> =torch.optim.Adam</li><li><b>model/params/ppo/optimizer_critic/lr</b> =0.0003</li><li><b>model/params/ppo/clip_grad</b> =10.0</li><li><b>model/params/ppo/control_every_n_epochs</b> =10</li><li><b>model/params/ppo/n_control_rollouts</b> =1</li><li><b>model/params/ppo/n_timesteps</b> =32</li><li><b>model/params/ppo/n_processes</b> =1</li><li><b>model/params/ppo/n_mini_batches</b> =4</li><li><b>model/params/ppo/n_envs_per_minibatch</b> =16</li><li><b>model/params/ppo/n_timesteps_per_minibatch</b> =16</li><li><b>model/params/ppo/n_times_per_minibatch</b> =1</li><li><b>model/params/ppo/discount_factor</b> =0.95</li><li><b>model/params/ppo/clip_ratio</b> =0.2</li><li><b>model/params/ppo/action_std</b> =0.4</li><li><b>model/params/ppo/gae</b> =0.95</li><li><b>model/params/ppo/reward_scaling</b> =1.0</li><li><b>model/params/ppo/time_limit</b> =0</li><li><b>model/params/ppo_agent/classname</b> =salina_cl.algorithms.ppo_finetune.agents.ActionAgent</li><li><b>model/params/ppo_agent/hidden_size</b> =256</li><li><b>model/params/ppo_agent/n_layers</b> =2</li><li><b>model/params/ppo_agent/input_dimension</b> =nil</li><li><b>model/params/ppo_agent/output_dimension</b> =nil</li><li><b>model/params/critic_agent/classname</b> =salina_cl.algorithms.ppo_finetune.agents.CriticAgent</li><li><b>model/params/critic_agent/hidden_size</b> =256</li><li><b>model/params/critic_agent/n_layers</b> =2</li><li><b>model/params/critic_agent/input_dimension</b> =nil</li></ul>"
      ],
      "text/plain": [
       "<IPython.core.display.HTML object>"
      ]
     },
     "metadata": {},
     "output_type": "display_data"
    },
    {
     "data": {
      "text/html": [
       "<h2>Reward</h2><table><tr><td>Task \\ Stage </td><td><b>0</b></td><td><b>1</b></td><td><b>2</b></td><td><b>3</b></td><td><b>4</b></td><td><b>5</b></td></tr><tr><td><b>0</b></td><td>100.0<i>(0.0)</i></td><td>95.25677083333333<i>(6.655590917584973)</i></td><td>94.77499999999999<i>(9.049965469547383)</i></td><td>100.0<i>(0.0)</i></td><td>100.0<i>(0.0)</i></td><td>100.0<i>(0.0)</i></td></tr><tr><td><b>1</b></td><td>46.39166666666667<i>(0.5348255897564498)</i></td><td>56.30885416666666<i>(4.201681424187772)</i></td><td>44.793749999999996<i>(8.067252868706683)</i></td><td>51.115625<i>(3.705916998636267)</i></td><td>51.6890625<i>(2.989483928733563)</i></td><td>50.75104166666667<i>(3.168982029432258)</i></td></tr><tr><td><b>2</b></td><td>77.25729166666666<i>(27.647863149822303)</i></td><td>29.440104166666668<i>(13.770598946489297)</i></td><td>98.03125<i>(3.4099750274012273)</i></td><td>40.32395833333334<i>(11.546357960909507)</i></td><td>40.19375<i>(11.150150096208066)</i></td><td>54.842187499999994<i>(32.10570154625723)</i></td></tr><tr><td><b>3</b></td><td>96.61979166666667<i>(5.134900957667253)</i></td><td>92.64218749999999<i>(11.159755554803551)</i></td><td>44.50416666666666<i>(21.89170758907045)</i></td><td>99.99739583333333<i>(0.0045105489780419)</i></td><td>99.99739583333333<i>(0.0045105489780419)</i></td><td>99.50677083333333<i>(0.8542979764415227)</i></td></tr><tr><td><b>4</b></td><td>99.828125<i>(0.29364609199468084)</i></td><td>91.71510416666666<i>(12.000625221071383)</i></td><td>82.43697916666666<i>(30.41869126306311)</i></td><td>100.0<i>(0.0)</i></td><td>100.0<i>(0.0)</i></td><td>100.0<i>(0.0)</i></td></tr><tr><td><b>5</b></td><td>71.01197916666666<i>(20.732539265790674)</i></td><td>83.37708333333335<i>(23.8116614401508)</i></td><td>74.67916666666666<i>(39.40313089649875)</i></td><td>99.88645833333334<i>(0.19665993544271998)</i></td><td>99.86614583333333<i>(0.23049037681015025)</i></td><td>99.99739583333333<i>(0.004510548978044977)</i></td></tr></table>"
      ],
      "text/plain": [
       "<IPython.core.display.HTML object>"
      ]
     },
     "metadata": {},
     "output_type": "display_data"
    }
   ],
   "source": [
    "import pandas as pd\n",
    "import numpy as np\n",
    "from IPython.display import display, HTML\n",
    "\n",
    "def analyze_runs(logs):\n",
    "    print(\"Analyzing \",len(logs),\" logs\")\n",
    "    hps=extract_hps(logs[0])\n",
    "    dfs=[]\n",
    "    for log in logs:\n",
    "        df=log.to_dataframe()\n",
    "        _cols=[c for c in df.columns if c.startswith(\"evaluation\")]+[\"iteration\"]        \n",
    "        df=df[_cols]\n",
    "        dfs.append(df)\n",
    "    \n",
    "    df=pd.concat(dfs)\n",
    "    df_mean=df.groupby(\"iteration\",as_index=False).mean()\n",
    "    df_std=df.groupby(\"iteration\",as_index=False).std()\n",
    "    columns=[c for c in df_mean.columns if not c==\"iteration\"]\n",
    "    df_mean=df_mean.dropna(subset=columns,how=\"all\")\n",
    "    df_std=df_std.dropna(subset=columns,how=\"all\")\n",
    "    n_tasks=df_mean[\"iteration\"].max()+1\n",
    "    #Collection reward\n",
    "    r_mean=np.zeros((n_tasks,n_tasks))\n",
    "    r_std=np.zeros((n_tasks,n_tasks))\n",
    "    memory_mean=np.zeros((n_tasks,))\n",
    "    memory_std=np.zeros((n_tasks,))\n",
    "    for task in range(n_tasks):\n",
    "        for stage in range(n_tasks):\n",
    "            n=\"evaluation/\"+str(task)+\"/avg_reward\"\n",
    "            \n",
    "            d=df_mean[df_mean[\"iteration\"]==stage]            \n",
    "            reward_mean=d.iloc[0][n]\n",
    "            memory_mean[stage]=d.iloc[0][\"evaluation/memory/n_parameters\"]\n",
    "            r_mean[task][stage]=reward_mean\n",
    "            \n",
    "            d=df_std[df_std[\"iteration\"]==stage]\n",
    "            reward_std=d.iloc[0][n]            \n",
    "            memory_std[stage]=d.iloc[0][\"evaluation/memory/n_parameters\"]\n",
    "            r_std[task][stage]=reward_std\n",
    "    return r_mean,r_std,memory_mean,memory_std,hps\n",
    "        \n",
    "    \n",
    "def analyze_scenario(logs,scenario):\n",
    "    h=generate_scenario_html(scenario)\n",
    "    display(HTML(h))\n",
    "    per_hps={}\n",
    "    for log in logs.logs:\n",
    "        if not has_scenario(log,scenario):\n",
    "            continue\n",
    "        h=extract_hps(log)\n",
    "        str_h=str(h)\n",
    "        if not str_h in per_hps:\n",
    "            per_hps[str_h]=[]\n",
    "        per_hps[str_h].append(log)\n",
    "    \n",
    "    print(\"Found \",len(per_hps),\" different Hps values\")\n",
    "    \n",
    "    for h in per_hps:\n",
    "        reward_mean,reward_std,memory_mean,memory_std,hps=analyze_runs(per_hps[h])\n",
    "    \n",
    "        #Generate HTML\n",
    "        h=generate_hps_html(hps)\n",
    "        display(HTML(h))\n",
    "        h=generate_reward_html(reward_mean,reward_std,)\n",
    "        display(HTML(h))\n",
    "\n",
    "for scenario in unique_scenarios(LOGS): \n",
    "    analyze_scenario(LOGS,scenario)\n"
   ]
  }
 ],
 "metadata": {
  "kernelspec": {
   "display_name": "Python 3 (ipykernel)",
   "language": "python",
   "name": "python3"
  },
  "language_info": {
   "codemirror_mode": {
    "name": "ipython",
    "version": 3
   },
   "file_extension": ".py",
   "mimetype": "text/x-python",
   "name": "python",
   "nbconvert_exporter": "python",
   "pygments_lexer": "ipython3",
   "version": "3.9.0"
  }
 },
 "nbformat": 4,
 "nbformat_minor": 5
}
